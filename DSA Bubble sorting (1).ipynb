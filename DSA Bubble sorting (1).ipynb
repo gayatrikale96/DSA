{
 "cells": [
  {
   "cell_type": "code",
   "execution_count": 1,
   "id": "1dcf28fe-df4e-4c3e-b507-c8db07727b63",
   "metadata": {},
   "outputs": [],
   "source": [
    "#Bubble sorting: Time complexity is O(n^2)\n",
    "\n",
    "def bubbleSort(arr):\n",
    "    for i in range(len(arr)-1, 0, -1):\n",
    "        for j in range(i):\n",
    "            if (arr[j]>arr[j+1]):\n",
    "                arr[j],arr[j+1] = arr[j+1], arr[j]"
   ]
  },
  {
   "cell_type": "code",
   "execution_count": 2,
   "id": "fed850b6-8e49-4c18-8e31-45a450643a5f",
   "metadata": {},
   "outputs": [
    {
     "name": "stdout",
     "output_type": "stream",
     "text": [
      "[1, 2, 3, 4, 5]\n"
     ]
    }
   ],
   "source": [
    "arr = [5,4,3,2,1]\n",
    "bubbleSort(arr)\n",
    "print(arr)"
   ]
  },
  {
   "cell_type": "code",
   "execution_count": 3,
   "id": "d71f2814-129c-4fe8-9809-a92f2cca49cb",
   "metadata": {},
   "outputs": [],
   "source": [
    "def bubbleSort(arr):\n",
    "    for i in range(len(arr)-1, 0, -1):\n",
    "        for j in range(i):\n",
    "            if (arr[j]>arr[j + 1]):\n",
    "                arr[j],arr[j+1] = arr[j+1], arr[j]"
   ]
  },
  {
   "cell_type": "code",
   "execution_count": 4,
   "id": "55b1bc9b-4a1e-433b-985d-9b27054234dd",
   "metadata": {},
   "outputs": [
    {
     "name": "stdout",
     "output_type": "stream",
     "text": [
      "[1, 2, 3, 4, 5, 6, 7]\n"
     ]
    }
   ],
   "source": [
    "arr = [7,5,6,4,2,3,1]\n",
    "bubbleSort(arr)\n",
    "print(arr)"
   ]
  },
  {
   "cell_type": "code",
   "execution_count": 5,
   "id": "2d3809db-27bd-4643-ac5b-d8291eb5e880",
   "metadata": {},
   "outputs": [],
   "source": [
    "# Number of coparision will be n ^2 # When the array is in descending oreder(5,4,3,2,1) which means that it is worstcase. No.of  comparision is n^2. In worst case no. of comparision is n^2"
   ]
  },
  {
   "cell_type": "markdown",
   "id": "5ed3d0bf-f9cc-49e7-a670-85dadfc6a09b",
   "metadata": {},
   "source": [
    "# Sorting:\n",
    "{3,6,1 dash,2,5,1}\n",
    "{1 dash, 1,2,3,5,6} - Stable sorting which means that 1 dash comes starting of sorting.(ralative position if value is equal doesnot change that is called as unstable sorting.)\n",
    "\n",
    "{1, 1 dash, 2,3,5,6} - Unstable sorting which means that 1 dash comes after the starting of sorting.\n",
    "\n",
    "In worst and Best both case no. of operation is n^2 so, the time complexity is O(n^2)\n"
   ]
  },
  {
   "cell_type": "markdown",
   "id": "bb62ea40-09a1-4a3d-a622-299679c12c1c",
   "metadata": {},
   "source": [
    "# Optimized version of bubble sort:\n",
    "\n",
    "In worst case time complexity is O(n^2)\n",
    "\n",
    "In best case time complexity is O(n) when it is a sorted array[1,2,3,4,5]\n"
   ]
  },
  {
   "cell_type": "code",
   "execution_count": 7,
   "id": "0c259b0d-d76b-4bb9-bf06-4ee061cf3792",
   "metadata": {},
   "outputs": [],
   "source": [
    "# Worstcase: Time Complexity is O(n^2)\n",
    "\n",
    "def bubbleSortOptimized(arr):\n",
    "    for i in range(len(arr)-1 , 0 , -1):\n",
    "        isSorted =  True\n",
    "        for j in range(i):\n",
    "            if(arr[j]>arr[j+1]):\n",
    "                isSorted = False\n",
    "                arr[j], arr[j+1] = arr[j+1],arr[j]\n",
    "                \n",
    "        if isSorted:\n",
    "            print(\"Array is already sorted\")\n",
    "            break"
   ]
  },
  {
   "cell_type": "code",
   "execution_count": 8,
   "id": "aeeab68d-5ebe-4260-96f0-83756b97f1c6",
   "metadata": {},
   "outputs": [
    {
     "name": "stdout",
     "output_type": "stream",
     "text": [
      "[1, 2, 3, 4, 5, 6, 7]\n"
     ]
    }
   ],
   "source": [
    "arr = [7,5,6,4,2,3,1]\n",
    "bubbleSortOptimized(arr)\n",
    "print(arr)\n"
   ]
  },
  {
   "cell_type": "code",
   "execution_count": 12,
   "id": "a8e5eaf3-ff2a-462c-a49f-920f325717e7",
   "metadata": {},
   "outputs": [],
   "source": [
    "# Best Case: Time complexity is O(n)\n",
    "\n",
    "def bubbleSortOptimized(arr):\n",
    "    for i in range(len(arr)-1, 0, -1):\n",
    "        isSorted = True\n",
    "        for j in range(i):\n",
    "            if(arr[j]>arr[j+1]):\n",
    "                isSorted = False\n",
    "                arr[j], arr[j + 1] = arr[j + 1],arr[j]\n",
    "        \n",
    "        if isSorted:\n",
    "            print(\"Array is already sorted\")\n",
    "            break"
   ]
  },
  {
   "cell_type": "code",
   "execution_count": 13,
   "id": "1a34f19e-f8a1-4a06-af0b-93db28326614",
   "metadata": {},
   "outputs": [
    {
     "name": "stdout",
     "output_type": "stream",
     "text": [
      "Array is already sorted\n",
      "[1, 2, 3, 4, 5, 6, 7]\n"
     ]
    }
   ],
   "source": [
    "arr = [1,2,3,4,5,6,7]\n",
    "bubbleSortOptimized(arr)\n",
    "print(arr)"
   ]
  },
  {
   "cell_type": "markdown",
   "id": "93e0b177-81c2-43e7-b58b-6d8e70c72198",
   "metadata": {},
   "source": [
    "# Selection sorting:\n",
    "In selection sorting it selects the smallest value.\n",
    "e.g.\n",
    "1) {3,2,1,4,5} select smallest value\n",
    "   smallest value is 1\n",
    "    so, {1,2,3,4,5} 3 is go the place of 1\n",
    "    again select the smallest, smallest is 2 so {1,2,3,4,5}\n",
    "    keep it as it is coz it sorted\n",
    "    \n",
    "2) {5,4,4,2,1}\n",
    "   select the smallest\n",
    "   smallest is 1 so 1st  and last element getting swap \n",
    "   {1,4,3,2,5}\n",
    "    now, smallest value is 2 replace it with 4\n",
    "   {1,2,3,4,5}\n",
    "   This is sorted.\n",
    "    \n",
    "In this we also select the largest value.\n",
    "e.g.\n",
    "{3,1,5,4,2}\n",
    "select the largest\n",
    "{3,1,2,4,5}\n",
    "again select largest\n",
    "{2,1,3,4,5}\n",
    "so,\n",
    "{1,2,3,4,5}\n",
    "sorted\n",
    "\n",
    "In duplicate element:\n",
    "{3,5,2,5dash,1}\n",
    "largest is 5 \n",
    "{3,1,2,5dash,5}\n",
    "largest is 5 dash so it becomes as it is \n",
    "{3,1,2,5 dash,5}\n",
    "largest is 3 it becomes\n",
    "{2,1,3,5dash,5}\n",
    "no largest is 2 replace it with 1\n",
    "{1,2,3,5 dash,5}\n",
    "sorted.\n",
    "\n",
    "\n",
    "\n",
    "\n",
    "    "
   ]
  },
  {
   "cell_type": "code",
   "execution_count": 21,
   "id": "139d0b04-9c25-4d7b-a794-51d439b2be66",
   "metadata": {},
   "outputs": [
    {
     "ename": "SyntaxError",
     "evalue": "incomplete input (3703397764.py, line 9)",
     "output_type": "error",
     "traceback": [
      "\u001b[0;36m  Cell \u001b[0;32mIn[21], line 9\u001b[0;36m\u001b[0m\n\u001b[0;31m    arr[i],arr[min] = arr[min],arr[i\u001b[0m\n\u001b[0m                                    ^\u001b[0m\n\u001b[0;31mSyntaxError\u001b[0m\u001b[0;31m:\u001b[0m incomplete input\n"
     ]
    }
   ],
   "source": [
    "def selectionSort(arr):\n",
    "    for i in range(len(arr)):\n",
    "        min = i \n",
    "        for j in range(i+1, len(arr)):\n",
    "            if arr[j] < arr[min]:\n",
    "                min = j\n",
    "            \n",
    "        # Find the smallest value\n",
    "        arr[i],arr[min] = arr[min],arr[i"
   ]
  },
  {
   "cell_type": "code",
   "execution_count": 20,
   "id": "739ed8f0-2c55-4249-8b94-b5e7126de00d",
   "metadata": {},
   "outputs": [
    {
     "ename": "NameError",
     "evalue": "name 'selectionSort' is not defined",
     "output_type": "error",
     "traceback": [
      "\u001b[0;31m---------------------------------------------------------------------------\u001b[0m",
      "\u001b[0;31mNameError\u001b[0m                                 Traceback (most recent call last)",
      "Cell \u001b[0;32mIn[20], line 2\u001b[0m\n\u001b[1;32m      1\u001b[0m arr \u001b[38;5;241m=\u001b[39m [\u001b[38;5;241m5\u001b[39m,\u001b[38;5;241m8\u001b[39m,\u001b[38;5;241m9\u001b[39m,\u001b[38;5;241m6\u001b[39m,\u001b[38;5;241m4\u001b[39m]\n\u001b[0;32m----> 2\u001b[0m \u001b[43mselectionSort\u001b[49m(arr)\n\u001b[1;32m      3\u001b[0m \u001b[38;5;28mprint\u001b[39m(arr)\n",
      "\u001b[0;31mNameError\u001b[0m: name 'selectionSort' is not defined"
     ]
    }
   ],
   "source": [
    "arr = [5,8,9,6,4]\n",
    "selectionSort(arr)\n",
    "print(arr)"
   ]
  },
  {
   "cell_type": "code",
   "execution_count": null,
   "id": "6c66bc14-ee1e-4302-bcb0-4ac1226840b1",
   "metadata": {},
   "outputs": [],
   "source": []
  }
 ],
 "metadata": {
  "kernelspec": {
   "display_name": "Python 3 (ipykernel)",
   "language": "python",
   "name": "python3"
  },
  "language_info": {
   "codemirror_mode": {
    "name": "ipython",
    "version": 3
   },
   "file_extension": ".py",
   "mimetype": "text/x-python",
   "name": "python",
   "nbconvert_exporter": "python",
   "pygments_lexer": "ipython3",
   "version": "3.10.8"
  }
 },
 "nbformat": 4,
 "nbformat_minor": 5
}
